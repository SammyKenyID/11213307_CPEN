{
 "cells": [
  {
   "cell_type": "markdown",
   "id": "b5a77e04-feb0-4998-b1f6-a07c025dbac4",
   "metadata": {},
   "source": [
    "# Project"
   ]
  },
  {
   "cell_type": "markdown",
   "id": "dbd2b994-56be-4a17-bcf3-0cc71a861ed0",
   "metadata": {},
   "source": [
    "---\n",
    "---"
   ]
  },
  {
   "cell_type": "markdown",
   "id": "376f0198-6613-4cd6-a5da-494fd6656ed8",
   "metadata": {},
   "source": [
    "> ### **Name:** Attu Samuel Idana"
   ]
  },
  {
   "cell_type": "markdown",
   "id": "639c603a-961d-4376-a683-be5ea4159afc",
   "metadata": {},
   "source": [
    " > ### **ID:** 11213307"
   ]
  },
  {
   "cell_type": "markdown",
   "id": "0fcaf1c1-8835-46a5-b61f-8307732f4b2f",
   "metadata": {},
   "source": [
    "> ### **Class:** CPEN"
   ]
  },
  {
   "cell_type": "markdown",
   "id": "6891ac2e-2860-44dd-b007-bac23c539803",
   "metadata": {},
   "source": [
    "---"
   ]
  },
  {
   "cell_type": "markdown",
   "id": "57362509-9e8b-40cf-bdd9-af3628203fae",
   "metadata": {},
   "source": [
    "#### SECTION TWO"
   ]
  },
  {
   "cell_type": "markdown",
   "id": "7abbd6e3-11a7-4bbf-92c5-e50cdbd0b7dd",
   "metadata": {},
   "source": [
    "* ### Install and import the following Python Libraries:\n"
   ]
  },
  {
   "cell_type": "markdown",
   "id": "e1cf33da-2066-49b2-aada-2d651cbd3406",
   "metadata": {},
   "source": [
    ">#### Pandas"
   ]
  },
  {
   "cell_type": "markdown",
   "id": "d86ba7cb-c199-432a-8a9c-57005e37fe7f",
   "metadata": {},
   "source": [
    ">```py\n",
    "> pip install pandas\n",
    ">```"
   ]
  },
  {
   "cell_type": "markdown",
   "id": "04bef7e0-640b-459c-b1ff-c5b930ad29da",
   "metadata": {},
   "source": [
    ">```py\n",
    "> import pandas as pd\n",
    ">``` "
   ]
  },
  {
   "cell_type": "markdown",
   "id": "31669068-b02c-4a59-ba37-31ee2dfed3b1",
   "metadata": {},
   "source": [
    ">#### Matplotlib"
   ]
  },
  {
   "cell_type": "markdown",
   "id": "1b819aca-4074-43b0-b0cc-2c82d0ac684b",
   "metadata": {},
   "source": [
    ">```py\n",
    ">pip install matplotlib\n",
    ">```"
   ]
  },
  {
   "cell_type": "markdown",
   "id": "5eb17b01-e747-457a-881a-26588dea90d2",
   "metadata": {},
   "source": [
    ">```py\n",
    "> import matplotlib.pyplot as plot\n",
    ">```"
   ]
  },
  {
   "cell_type": "markdown",
   "id": "b806a88d-958b-4a55-8bc2-9b7d5a1fe3d4",
   "metadata": {},
   "source": [
    ">#### Numpy"
   ]
  },
  {
   "cell_type": "markdown",
   "id": "63c2cd51-c5ab-4ea2-833c-804711495ed0",
   "metadata": {},
   "source": [
    ">```py\n",
    "> pip install numpy\n",
    ">```"
   ]
  },
  {
   "cell_type": "markdown",
   "id": "4a2efcdc-2259-4d24-b6cb-72928bcc2afe",
   "metadata": {},
   "source": [
    ">```py\n",
    "> import numpy as np \n",
    ">```"
   ]
  },
  {
   "cell_type": "markdown",
   "id": "f260363d-4c23-46fe-8c99-58e57f5e2f8d",
   "metadata": {},
   "source": [
    "* #### Import the modified red_wine.csv dataset into your working notebook environment:"
   ]
  },
  {
   "cell_type": "markdown",
   "id": "fd93b638-a595-4502-a276-1bd83db179ef",
   "metadata": {},
   "source": [
    ">```py\n",
    ">file_path = r'C:\\Users\\USER\\Desktop\\GIT\\11213307\\red_wine.csv' \n",
    ">my_csv = pd.read_csv(file_path) \n",
    ">```"
   ]
  },
  {
   "cell_type": "markdown",
   "id": "1993c559-8960-47d1-8bb8-dc0fe9d891c0",
   "metadata": {},
   "source": [
    "* ####  Preview the first 10 rows using the head method:"
   ]
  },
  {
   "cell_type": "markdown",
   "id": "05cf4702-6b0f-45e5-ae19-fc40c0cdd0db",
   "metadata": {},
   "source": [
    ">```py\n",
    ">my_csv.head(10)\n",
    ">```"
   ]
  },
  {
   "cell_type": "markdown",
   "id": "9174a6bf-f785-42b4-9987-be5673260d9e",
   "metadata": {},
   "source": [
    "* #### Preview the last 20 rows using the tail method:"
   ]
  },
  {
   "cell_type": "markdown",
   "id": "f0f48257-7862-421b-a4d0-d5d9ca591e89",
   "metadata": {},
   "source": [
    ">```py\n",
    ">my_csv.tail(20)\n",
    ">```"
   ]
  },
  {
   "cell_type": "markdown",
   "id": "1a0618ec-ed99-4c8a-8db0-1e9a5e09a287",
   "metadata": {},
   "source": [
    "* ####  Use the info method to check basic information on the dataset:"
   ]
  },
  {
   "cell_type": "markdown",
   "id": "d10bcdd1-2856-4c8e-b5c0-5c6c40cb05e4",
   "metadata": {},
   "source": [
    ">```py\n",
    ">my_csv.info()\n",
    ">```"
   ]
  },
  {
   "cell_type": "markdown",
   "id": "2ff9f169-7e57-4b31-ae61-a5d6fa43fc8c",
   "metadata": {},
   "source": [
    " * #### Use the describe method to obtain statistical information on the dataset:"
   ]
  },
  {
   "cell_type": "markdown",
   "id": "8ff24f09-afa4-4d1e-a5aa-f6365596ae72",
   "metadata": {},
   "source": [
    ">```py\n",
    "> my_csv.describe()\n",
    ">```"
   ]
  },
  {
   "cell_type": "markdown",
   "id": "9e8e4129-4b65-4ae1-bbf7-bc37f1c9d4fe",
   "metadata": {},
   "source": [
    "* #### Deploy all manner of skills and techniques including graphs and plots to obtain meaningful:"
   ]
  },
  {
   "cell_type": "markdown",
   "id": "071702bf-6178-41ce-a646-39650fe6b5e8",
   "metadata": {},
   "source": [
    ">**HISTOGRAM**"
   ]
  },
  {
   "cell_type": "markdown",
   "id": "e56c7aec-689b-4a5e-906f-ccb170520c09",
   "metadata": {},
   "source": [
    ">```py\n",
    ">plot.figure(figsize = (10, 6))\n",
    ">plot.hist(my_csv['alcohol'], bins=20, color='skyblue', edgecolor='black')\n",
    ">plot.title('Distribution of Alcohol Content')\n",
    ">plot.xlabel('Alcohol Content')\n",
    ">plot.ylabel('Frequency')\n",
    ">plot.show()\n",
    ">```"
   ]
  },
  {
   "cell_type": "markdown",
   "id": "25ebc164-42ed-4497-8005-767e0828343f",
   "metadata": {},
   "source": [
    ">**SCATTER PLOT**"
   ]
  },
  {
   "cell_type": "markdown",
   "id": "9bd142b3-baa9-4271-b649-86b759be3d08",
   "metadata": {},
   "source": [
    ">```py\n",
    ">plot.figure(figsize=(10, 6))\n",
    ">plot.scatter(my_csv['fixed acidity'], my_csv['volatile acidity'], color='red', alpha=0.5)\n",
    ">plot.title('Scatter Plot: Fixed Acidity vs. Volatile Acidity')\n",
    ">plot.xlabel('Fixed Acidity')\n",
    ">plot.ylabel('Volatile Acidity')\n",
    ">plot.grid(True)\n",
    ">plot.show()\n",
    ">```"
   ]
  },
  {
   "cell_type": "markdown",
   "id": "5f4ec44d-16dd-4fae-a068-f92131a1c13d",
   "metadata": {},
   "source": [
    ">**BOX PLOT**"
   ]
  },
  {
   "cell_type": "markdown",
   "id": "5f75e038-0120-43a0-a8cf-d5b225917e26",
   "metadata": {},
   "source": [
    ">```py\n",
    ">plot.figure(figsize=(8, 6))\n",
    ">plot.boxplot(my_csv['residual sugar'])\n",
    ">plot.title('Box Plot: Residual Sugar Distribution')\n",
    ">plot.ylabel('Residual Sugar')\n",
    ">plot.show()\n",
    ">```"
   ]
  },
  {
   "cell_type": "markdown",
   "id": "bb7aec9c-e049-45ab-ac80-a80eaadaa09e",
   "metadata": {},
   "source": [
    ">**CORRELATION HEATMAP**"
   ]
  },
  {
   "cell_type": "markdown",
   "id": "0f22d44d-5693-46b4-9798-1ea30c7b4cd5",
   "metadata": {},
   "source": [
    ">```py\n",
    ">plot.figure(figsize=(12, 8))\n",
    ">correlation_matrix = my_csv.corr()\n",
    ">plot.imshow(correlation_matrix, cmap='coolwarm', interpolation='none')\n",
    ">plot.colorbar()\n",
    ">plot.xticks(range(len(correlation_matrix)), correlation_matrix.columns, rotation='vertical')\n",
    ">plot.yticks(range(len(correlation_matrix)), correlation_matrix.columns)\n",
    ">plot.title('Correlation Heatmap')\n",
    ">plot.show()\n",
    ">```"
   ]
  },
  {
   "cell_type": "markdown",
   "id": "aab7a099-6ab9-4ac0-b1cd-39cb5907235e",
   "metadata": {},
   "source": [
    "# Exploratory Data Analysis Report\n",
    "\n",
    "## Scatter Plot: Fixed Acidity vs. Volatile Acidity\n",
    "\n",
    "**Description:** The scatter plot illustrates the relationship between fixed acidity and volatile acidity in the red wine dataset.\n",
    "\n",
    "**Observation:** There seems to be a moderate positive correlation between fixed acidity and volatile acidity. Wines with higher fixed acidity tend to have higher volatile acidity.\n",
    "\n",
    "![Scatter Plot: Fixed Acidity vs. Volatile Acidity](./scatter_plot.png)\n",
    "\n",
    "## Box Plot: Residual Sugar Distribution\n",
    "\n",
    "**Description:** The box plot provides insights into the distribution of residual sugar in the red wine dataset.\n",
    "\n",
    "**Observation:** The majority of wines have residual sugar levels within a certain range, with a few outliers indicating potential sweet or dry wines.\n",
    "\n",
    "![Box Plot: Residual Sugar Distribution](./box_plot.png)\n",
    "\n",
    "## Correlation Heatmap\n",
    "\n",
    "**Description:** The heatmap visualizes the correlation matrix of different attributes in the dataset.\n",
    "\n",
    "**Observation:** Notable correlations are observed, such as a negative correlation between fixed acidity and pH. These correlations provide insights into potential relationships between different attributes.\n",
    "\n",
    "![Correlation Heatmap](./correlation_heatmap.png)\n",
    "\n",
    "## Histogram of Alcohol Content\n",
    "\n",
    "**Description:** The histogram displays the distribution of alcohol content in the red wine dataset.\n",
    "\n",
    "**Observation:** Alcohol content is concentrated around a specific range, indicating a typical alcohol level for red wines.\n",
    "\n",
    "![Histogram of Alcohol Content](./histogram.png)\n",
    "\n",
    "\n",
    "## Conclusion\n",
    "\n",
    "- The scatter plot and line plot provide insights into the relationships between various attributes in the red wine dataset.\n",
    "- The box plot and histogram help understand the distribution of specific attributes, such as residual sugar and alcohol content.\n",
    "- The correlation heatmap highlights potential correlations between different attributes.\n",
    "\n",
    "Further analysis and exploration can be conducted to gain a deeper understanding of the dataset and extract more meaningful insights.\n"
   ]
  },
  {
   "cell_type": "code",
   "execution_count": null,
   "id": "b648a06b-7fdc-45b9-b95a-559eb62450f5",
   "metadata": {},
   "outputs": [],
   "source": []
  }
 ],
 "metadata": {
  "kernelspec": {
   "display_name": "Python 3 (ipykernel)",
   "language": "python",
   "name": "python3"
  },
  "language_info": {
   "codemirror_mode": {
    "name": "ipython",
    "version": 3
   },
   "file_extension": ".py",
   "mimetype": "text/x-python",
   "name": "python",
   "nbconvert_exporter": "python",
   "pygments_lexer": "ipython3",
   "version": "3.11.6"
  }
 },
 "nbformat": 4,
 "nbformat_minor": 5
}
